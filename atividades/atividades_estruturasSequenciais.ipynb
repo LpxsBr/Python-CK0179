{
  "nbformat": 4,
  "nbformat_minor": 0,
  "metadata": {
    "colab": {
      "provenance": [],
      "collapsed_sections": [],
      "authorship_tag": "ABX9TyNYA4HAitX8DhhwRkl9T+B8",
      "include_colab_link": true
    },
    "kernelspec": {
      "name": "python3",
      "display_name": "Python 3"
    },
    "language_info": {
      "name": "python"
    }
  },
  "cells": [
    {
      "cell_type": "markdown",
      "metadata": {
        "id": "view-in-github",
        "colab_type": "text"
      },
      "source": [
        "<a href=\"https://colab.research.google.com/github/LpxsBr/Python-CK0179/blob/main/atividades/atividades_estruturasSequenciais.ipynb\" target=\"_parent\"><img src=\"https://colab.research.google.com/assets/colab-badge.svg\" alt=\"Open In Colab\"/></a>"
      ]
    },
    {
      "cell_type": "code",
      "execution_count": 6,
      "metadata": {
        "colab": {
          "base_uri": "https://localhost:8080/"
        },
        "id": "DV7GQt_0SEO2",
        "outputId": "f841c499-e5cf-47fb-99bb-339e54557c75"
      },
      "outputs": [
        {
          "output_type": "stream",
          "name": "stdout",
          "text": [
            "Insira aqui a nota do Laboratório: 1\n",
            "Insira aqui a nota da Av Semestral: 1\n",
            "Insira aqui a nota do Exame Final: 1\n",
            "1.0\n"
          ]
        }
      ],
      "source": [
        "# link do slide de atividade: https://si3.ufc.br/sigaa/ava/index.jsf\n",
        "\n",
        "# programa 1\n",
        "\n",
        "# receber entrada de valor da nota por tipo de trabalho/atividades/avaliação\n",
        "\n",
        "notaLab = float(input('Insira aqui a nota do Laboratório: '))\n",
        "notaAvSem = float(input('Insira aqui a nota da Av Semestral: '))\n",
        "notaFinal = float(input('Insira aqui a nota do Exame Final: '))\n",
        "\n",
        "# pesos mockados (pode ser feito de varias formas*****)\n",
        "\n",
        "class peso:\n",
        "  lab = 2\n",
        "  avSem = 3\n",
        "  final = 5\n",
        "\n",
        "# Intervalos mockados\n",
        "# to be continued . . .\n",
        "\n",
        "\n",
        "#calculo da média ponderada\n",
        "\n",
        "mediaPonderada = ((notaLab * peso.lab) + (notaAvSem * peso.avSem) + (notaFinal * peso.final))/(peso.lab + peso.avSem + peso.final)\n",
        "\n",
        "# saida de dados\n",
        "\n",
        "print(mediaPonderada)\n",
        "\n"
      ]
    },
    {
      "cell_type": "code",
      "source": [],
      "metadata": {
        "id": "6FTowDfJU7N9"
      },
      "execution_count": 6,
      "outputs": []
    }
  ]
}