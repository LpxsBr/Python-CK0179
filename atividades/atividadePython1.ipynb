{
  "nbformat": 4,
  "nbformat_minor": 0,
  "metadata": {
    "colab": {
      "provenance": [],
      "name": "atividadepython1.ipynb",
      "include_colab_link": true
    },
    "kernelspec": {
      "name": "python3",
      "display_name": "Python 3"
    },
    "language_info": {
      "name": "python"
    }
  },
  "cells": [
    {
      "cell_type": "markdown",
      "metadata": {
        "id": "view-in-github",
        "colab_type": "text"
      },
      "source": [
        "<a href=\"https://colab.research.google.com/github/LpxsBr/Python-CK0179/blob/main/atividades/atividadePython1.ipynb\" target=\"_parent\"><img src=\"https://colab.research.google.com/assets/colab-badge.svg\" alt=\"Open In Colab\"/></a>"
      ]
    },
    {
      "cell_type": "code",
      "execution_count": null,
      "metadata": {
        "colab": {
          "base_uri": "https://localhost:8080/"
        },
        "id": "sQFwpYdh-OJ_",
        "outputId": "05027422-650a-4d94-9928-bb1e2be42a9a"
      },
      "outputs": [
        {
          "output_type": "stream",
          "name": "stdout",
          "text": [
            "digite aqui seu nome: anselmo\n",
            "digite aqui seu matricula: 0000000\n",
            "digite aqui seu curso: engenharia\n",
            "digite aqui seu idade: 00\n",
            "digite aqui seu email: anselmo@gmail.com\n",
            "\n",
            " nome:  anselmo \n",
            " matricula:  0000000 \n",
            " curso:  engenharia \n",
            " idade:  00 \n",
            " email: anselmo@gmail.com\n"
          ]
        }
      ],
      "source": [
        "#1\n",
        "\n",
        "# entrada de dados\n",
        "\n",
        "nome = input('digite aqui seu nome: ')\n",
        "matricula = input('digite aqui seu matricula: ')\n",
        "curso = input('digite aqui seu curso: ')\n",
        "idade = input('digite aqui seu idade: ')\n",
        "email = input('digite aqui seu email: ')\n",
        "\n",
        "# saida de dados\n",
        "print(\"\\n nome: \", nome,\"\\n matricula: \", matricula, \"\\n curso: \",curso, \"\\n idade: \", idade, \"\\n email:\", email)"
      ]
    },
    {
      "cell_type": "code",
      "source": [
        "#2\n",
        "\n",
        "# entrada das notas\n",
        "pnota = float(input('digite a primeira nota: '))\n",
        "snota = float(input('digite a primeira nota: '))\n",
        "tnota = float(input('digite a primeira nota: '))\n",
        "\n",
        "# calculo da média\n",
        "media = (pnota + snota + tnota)/3\n",
        "\n",
        "#saida de dados\n",
        "print('média: ', media)"
      ],
      "metadata": {
        "colab": {
          "base_uri": "https://localhost:8080/"
        },
        "id": "OM_TaEfCArw_",
        "outputId": "14a48f1f-417d-4731-9285-2072e86b7797"
      },
      "execution_count": null,
      "outputs": [
        {
          "output_type": "stream",
          "name": "stdout",
          "text": [
            "digite a primeira nota: 2\n",
            "digite a primeira nota: 3\n",
            "digite a primeira nota: 4\n",
            "média:  3.0\n"
          ]
        }
      ]
    },
    {
      "cell_type": "code",
      "source": [
        "#3\n",
        "\n",
        "#entrada de dados\n",
        "pnota = float(input('digite a primeira nota: '))\n",
        "ppeso = float(input('digite a primeiro peso: '))\n",
        "snota = float(input('digite a segunda nota: '))\n",
        "speso = float(input('digite a segundo peso: '))\n",
        "\n",
        "#media ponderada\n",
        "mediap = ((pnota * ppeso) + (snota + speso))/(ppeso + speso)\n",
        "\n",
        "# saida de dados\n",
        "\n",
        "print('a media ponderada é: ', mediap)"
      ],
      "metadata": {
        "colab": {
          "base_uri": "https://localhost:8080/"
        },
        "id": "kqc7EqeHDYwg",
        "outputId": "a8714844-9886-433a-96bb-41a9c5724c30"
      },
      "execution_count": null,
      "outputs": [
        {
          "output_type": "stream",
          "name": "stdout",
          "text": [
            "digite a primeira nota: 2.8\n",
            "digite a primeiro peso: 6\n",
            "digite a segunda nota: 5.98\n",
            "digite a segundo peso: 4\n",
            "a media ponderada é:  2.678\n"
          ]
        }
      ]
    },
    {
      "cell_type": "code",
      "source": [
        "# 4\n",
        "\n",
        "# importação de pacotes\n",
        "import math\n",
        "\n",
        "# entrada de dados\n",
        "raio = float(input('digite o raio do circulo: '))\n",
        "\n",
        "# saida de dados\n",
        "print(round(math.pi * (raio**2)))"
      ],
      "metadata": {
        "colab": {
          "base_uri": "https://localhost:8080/"
        },
        "id": "z3yV37dVGTun",
        "outputId": "70e6632d-9ddd-49fe-b3df-ff980a78bed3"
      },
      "execution_count": null,
      "outputs": [
        {
          "output_type": "stream",
          "name": "stdout",
          "text": [
            "digite o raio do circulo: 5\n",
            "79\n"
          ]
        }
      ]
    },
    {
      "cell_type": "code",
      "source": [
        "# 5\n",
        "\n",
        "# importação de pacotes\n",
        "\n",
        "import math\n",
        "\n",
        "# entrada de dados\n",
        "numero = float(input('digite o numero: '))\n",
        "\n",
        "# teste inicial\n",
        "if numero > 0 or numero:\n",
        "  print('numero ao quadrado: ', (numero**2))\n",
        "  print('numero ao quadrado: ', (numero**3))\n",
        "  print('numero ao quadrado: ', (math.sqrt(numero)))\n",
        "  print('numero ao quadrado: ', (numero**(1/3)))\n",
        "else:\n",
        "  print('seu valor é negativo ou igual a 0, tente novamente')"
      ],
      "metadata": {
        "colab": {
          "base_uri": "https://localhost:8080/"
        },
        "id": "J0sby_IaExhw",
        "outputId": "b56e31fb-feed-47d2-89fb-58c31c758c89"
      },
      "execution_count": null,
      "outputs": [
        {
          "output_type": "stream",
          "name": "stdout",
          "text": [
            "digite o numero: 12\n",
            "numero ao quadrado:  144.0\n",
            "numero ao quadrado:  1728.0\n",
            "numero ao quadrado:  3.4641016151377544\n",
            "numero ao quadrado:  2.2894284851066637\n"
          ]
        }
      ]
    },
    {
      "cell_type": "code",
      "source": [
        "# 6\n",
        "\n",
        "# entrada de dados\n",
        "salario = float(input('digite o salario: R$'))\n",
        "percentual = float(input('digite o percentual de aumento: '))\n",
        "\n",
        "# calculo do aumento\n",
        "aumento = salario * (percentual/100)\n",
        "\n",
        "# saida de dados\n",
        "print('o aumento será de: R$',round(aumento, 2))\n",
        "print('o novo salario será de: R$',round((salario + aumento), 2))"
      ],
      "metadata": {
        "colab": {
          "base_uri": "https://localhost:8080/"
        },
        "id": "TK6J6CgwLzVW",
        "outputId": "490ff5b7-ad16-4f75-ef89-6ab9ad931d98"
      },
      "execution_count": null,
      "outputs": [
        {
          "output_type": "stream",
          "name": "stdout",
          "text": [
            "digite o salario: R$1250.59\n",
            "digite o percentual de aumento: 13.52\n",
            "o aumento será de: R$ 169.08\n",
            "o novo salario será de: R$ 1419.67\n"
          ]
        }
      ]
    }
  ]
}