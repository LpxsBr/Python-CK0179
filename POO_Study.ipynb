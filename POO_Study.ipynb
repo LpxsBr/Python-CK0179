{
  "nbformat": 4,
  "nbformat_minor": 0,
  "metadata": {
    "colab": {
      "name": "POO Study.ipynb",
      "provenance": [],
      "collapsed_sections": [],
      "authorship_tag": "ABX9TyObgx2Odf/yCmAhVgSHd/jc",
      "include_colab_link": true
    },
    "kernelspec": {
      "name": "python3",
      "display_name": "Python 3"
    },
    "language_info": {
      "name": "python"
    }
  },
  "cells": [
    {
      "cell_type": "markdown",
      "metadata": {
        "id": "view-in-github",
        "colab_type": "text"
      },
      "source": [
        "<a href=\"https://colab.research.google.com/github/LpxsBr/Python-CK0179/blob/main/POO_Study.ipynb\" target=\"_parent\"><img src=\"https://colab.research.google.com/assets/colab-badge.svg\" alt=\"Open In Colab\"/></a>"
      ]
    },
    {
      "cell_type": "code",
      "execution_count": 30,
      "metadata": {
        "id": "ytNmsmXbKi3P"
      },
      "outputs": [],
      "source": [
        "#studying POO in Python\n",
        "\n",
        "class meuNome:\n",
        "  name = 'first name'\n",
        "  lastname = 'last name'\n",
        "  def fname():\n",
        "    return meuNome.name\n",
        "  def lname():\n",
        "    return meuNome.lastname"
      ]
    },
    {
      "cell_type": "code",
      "source": [
        "print(meuNome.fname())\n",
        "print(meuNome.lname())"
      ],
      "metadata": {
        "colab": {
          "base_uri": "https://localhost:8080/"
        },
        "id": "4V10cFB9K6D9",
        "outputId": "5c197fa3-ca14-4d4e-84fa-908c62932623"
      },
      "execution_count": 31,
      "outputs": [
        {
          "output_type": "stream",
          "name": "stdout",
          "text": [
            "first name\n",
            "last name\n"
          ]
        }
      ]
    },
    {
      "cell_type": "markdown",
      "source": [
        ""
      ],
      "metadata": {
        "id": "p1M5VNilNvjr"
      }
    }
  ]
}