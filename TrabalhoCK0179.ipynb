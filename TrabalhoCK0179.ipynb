{
  "nbformat": 4,
  "nbformat_minor": 0,
  "metadata": {
    "colab": {
      "provenance": [],
      "include_colab_link": true
    },
    "kernelspec": {
      "name": "python3",
      "display_name": "Python 3"
    },
    "language_info": {
      "name": "python"
    }
  },
  "cells": [
    {
      "cell_type": "markdown",
      "metadata": {
        "id": "view-in-github",
        "colab_type": "text"
      },
      "source": [
        "<a href=\"https://colab.research.google.com/github/LpxsBr/Python-CK0179/blob/trabalho-final/TrabalhoCK0179.ipynb\" target=\"_parent\"><img src=\"https://colab.research.google.com/assets/colab-badge.svg\" alt=\"Open In Colab\"/></a>"
      ]
    },
    {
      "cell_type": "code",
      "source": [
        "#link of the homework: https://drive.google.com/file/d/16vdyZuAdixWTVQvp9XJl_sYdyPORshs1/view?usp=share_link"
      ],
      "metadata": {
        "id": "iuYN6Qj6XX1j"
      },
      "execution_count": 10,
      "outputs": []
    },
    {
      "cell_type": "code",
      "source": [
        "from os.path import exists\n",
        "\n",
        "def main():\n",
        "  file = exists('ALUNOS.DAT')\n",
        "  if file == False:\n",
        "    CreateFile()\n",
        "  option = ''\n",
        "  while option != '0':\n",
        "    print('--------Options-------- \\n 1 -> Add new student and score \\n 2 -> Edit student \\n 3 -> Delete student \\n 0 -> Exit()')\n",
        "    option = input('what do you wanna do? >>> ')\n",
        "    if option == '1':\n",
        "      AddStudentData()\n",
        "    if option == '2':\n",
        "      EditStudentData()\n",
        "    if option == '3':\n",
        "      DeleteStudentData()\n",
        "  print('finished!')"
      ],
      "metadata": {
        "id": "KvrYQCCGRG1w"
      },
      "execution_count": 11,
      "outputs": []
    },
    {
      "cell_type": "code",
      "source": [
        "# functions of the app\n",
        "\n",
        "def AddStudentData():\n",
        "  numero = key()\n",
        "  nome = input('type the students name >>> ')\n",
        "  curso = input('type the course >>> ')\n",
        "  nota1 = input('declare the first score >>> ')\n",
        "  nota2 = input('declare the second score >>> ')\n",
        "\n",
        "  aluno = f'{numero}|{nome}|{curso}|{nota1}|{nota2}\\n'\n",
        "  \n",
        "  with open('ALUNOS.DAT', 'a') as arc:\n",
        "    arc.write(aluno)\n",
        "    arc.close()\n",
        "  \n",
        "  ask = input('do you want to add one more time? (Y/N) >>> ')\n",
        "  if ask == 'y' or ask == 'Y':\n",
        "    return AddStudentData()\n",
        "  elif ask == 'n' or ask == 'N':\n",
        "    return 0\n",
        "\n",
        "def EditStudentData():\n",
        "  return 0\n",
        "\n",
        "def DeleteStudentData():\n",
        "  return 0\n",
        "\n",
        "def ShowStudentsList():\n",
        "  return 0\n",
        "\n",
        "def CalculateTheFinalScore():\n",
        "  return 0"
      ],
      "metadata": {
        "id": "ZNVcLmkRCeRr"
      },
      "execution_count": 12,
      "outputs": []
    },
    {
      "cell_type": "markdown",
      "source": [],
      "metadata": {
        "id": "WJrdIikFCdEU"
      }
    },
    {
      "cell_type": "code",
      "execution_count": 13,
      "metadata": {
        "id": "WTBeHZ-tLoYR"
      },
      "outputs": [],
      "source": [
        "# 0 - create file\n",
        "\n",
        "def CreateFile():\n",
        "  arc = open('ALUNOS.DAT', 'w')\n",
        "  arc.write('0|nome|curso|nota 1|nota 2 \\n')\n",
        "  arc.close()\n",
        "  print('archieve created')"
      ]
    },
    {
      "cell_type": "code",
      "source": [
        "# transform the archive in a list to future operations\n",
        "\n",
        "def ArcInList():\n",
        "  arc = open('ALUNOS.DAT', 'r')\n",
        "  b = []\n",
        "  cont = 0\n",
        "  for i in arc:\n",
        "    b.append(i)\n",
        "  arc.close\n",
        "  return b\n",
        "\n",
        "  # return the next number of student\n",
        "\n",
        "def key():\n",
        "  keys = []\n",
        "  for i in range(len(ArcInList())):\n",
        "    ArcInList()[i].split('|');\n",
        "    keys.append(int(ArcInList()[i][0:ArcInList()[i].find('|')]))\n",
        "    keys.sort()\n",
        "  return(keys[len(keys)-1]+1)\n"
      ],
      "metadata": {
        "id": "Lkac_MFckV7j"
      },
      "execution_count": 14,
      "outputs": []
    },
    {
      "cell_type": "code",
      "source": [
        "# verification logs\n",
        "\n",
        "print(ArcInList())\n",
        "print(key())\n",
        "# print(int(ArcInList()[i][0:ArcInList()[i].find('|')]))"
      ],
      "metadata": {
        "colab": {
          "base_uri": "https://localhost:8080/"
        },
        "id": "iF51YQjqdV7d",
        "outputId": "e512d30d-b6d8-4f93-ad5b-a45c113f70d0"
      },
      "execution_count": 17,
      "outputs": [
        {
          "output_type": "stream",
          "name": "stdout",
          "text": [
            "['0|nome|curso|nota 1|nota 2 \\n', '1|Anselmo|Engenharia de Produção|9|10\\n', '2|Gabriel|Engenharia de Produção|10|10\\n', '3|Jéssica|Engenharia de Produção|10|10\\n', '4|Wanessa|Engenharia de Produção|10|9\\n']\n",
            "5\n"
          ]
        }
      ]
    },
    {
      "cell_type": "code",
      "source": [
        "main()"
      ],
      "metadata": {
        "colab": {
          "base_uri": "https://localhost:8080/"
        },
        "id": "HX7QrxNvBrXR",
        "outputId": "d286018f-38ae-4c95-e1f9-7fb13dc06bbf"
      },
      "execution_count": 16,
      "outputs": [
        {
          "output_type": "stream",
          "name": "stdout",
          "text": [
            "--------Options-------- \n",
            " 1 -> Add new student and score \n",
            " 2 -> Edit student \n",
            " 3 -> Delete student \n",
            " 0 -> Exit()\n",
            "what do you wanna do? >>> 1\n",
            "type the students name >>> Wanessa\n",
            "type the course >>> Engenharia de Produção\n",
            "declare the first score >>> 10\n",
            "declare the second score >>> 9\n",
            "do you want to add one more time? (Y/N) >>> n\n",
            "--------Options-------- \n",
            " 1 -> Add new student and score \n",
            " 2 -> Edit student \n",
            " 3 -> Delete student \n",
            " 0 -> Exit()\n",
            "what do you wanna do? >>> 0\n",
            "finished!\n"
          ]
        }
      ]
    }
  ]
}